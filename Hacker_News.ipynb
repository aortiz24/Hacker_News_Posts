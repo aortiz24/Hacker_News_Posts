{
 "cells": [
  {
   "cell_type": "markdown",
   "metadata": {
    "collapsed": true
   },
   "source": [
    "# Analyzing Hacker News Posts"
   ]
  },
  {
   "cell_type": "markdown",
   "metadata": {},
   "source": [
    "## Downloading The Data"
   ]
  },
  {
   "cell_type": "markdown",
   "metadata": {},
   "source": [
    "The original data set and data description can be found [here](https://www.kaggle.com/hacker-news/hacker-news-posts). A reduced data set of Hacker News Posts are used for this analysis."
   ]
  },
  {
   "cell_type": "markdown",
   "metadata": {},
   "source": [
    "## Importing packages"
   ]
  },
  {
   "cell_type": "code",
   "execution_count": 13,
   "metadata": {
    "collapsed": true
   },
   "outputs": [],
   "source": [
    "#import packages\n",
    "from csv import reader\n",
    "import datetime as dt"
   ]
  },
  {
   "cell_type": "code",
   "execution_count": 14,
   "metadata": {
    "collapsed": false,
    "scrolled": true
   },
   "outputs": [],
   "source": [
    "#import csv file and save as a list of lists\n",
    "opened_file = open(\"hacker_news.csv\")\n",
    "read_file = reader(opened_file)\n",
    "hn = list(read_file)"
   ]
  },
  {
   "cell_type": "markdown",
   "metadata": {},
   "source": [
    "## Data Inspection"
   ]
  },
  {
   "cell_type": "code",
   "execution_count": 15,
   "metadata": {
    "collapsed": false
   },
   "outputs": [
    {
     "name": "stdout",
     "output_type": "stream",
     "text": [
      "[['id', 'title', 'url', 'num_points', 'num_comments', 'author', 'created_at'], ['12224879', 'Interactive Dynamic Video', 'http://www.interactivedynamicvideo.com/', '386', '52', 'ne0phyte', '8/4/2016 11:52'], ['10975351', 'How to Use Open Source and Shut the Fuck Up at the Same Time', 'http://hueniverse.com/2016/01/26/how-to-use-open-source-and-shut-the-fuck-up-at-the-same-time/', '39', '10', 'josep2', '1/26/2016 19:30'], ['11964716', \"Florida DJs May Face Felony for April Fools' Water Joke\", 'http://www.thewire.com/entertainment/2013/04/florida-djs-april-fools-water-joke/63798/', '2', '1', 'vezycash', '6/23/2016 22:20'], ['11919867', 'Technology ventures: From Idea to Enterprise', 'https://www.amazon.com/Technology-Ventures-Enterprise-Thomas-Byers/dp/0073523429', '3', '1', 'hswarna', '6/17/2016 0:01']]\n"
     ]
    }
   ],
   "source": [
    "#display first five rows of hn data set\n",
    "hn_head = hn[0:5]\n",
    "print(hn_head)"
   ]
  },
  {
   "cell_type": "code",
   "execution_count": 16,
   "metadata": {
    "collapsed": false
   },
   "outputs": [
    {
     "name": "stdout",
     "output_type": "stream",
     "text": [
      "['id', 'title', 'url', 'num_points', 'num_comments', 'author', 'created_at']\n"
     ]
    }
   ],
   "source": [
    "#save header row as 'headers'\n",
    "headers = hn[0]\n",
    "#print header row from hn dataset\n",
    "print(headers)"
   ]
  },
  {
   "cell_type": "code",
   "execution_count": 17,
   "metadata": {
    "collapsed": false
   },
   "outputs": [
    {
     "name": "stdout",
     "output_type": "stream",
     "text": [
      "[['12224879', 'Interactive Dynamic Video', 'http://www.interactivedynamicvideo.com/', '386', '52', 'ne0phyte', '8/4/2016 11:52'], ['10975351', 'How to Use Open Source and Shut the Fuck Up at the Same Time', 'http://hueniverse.com/2016/01/26/how-to-use-open-source-and-shut-the-fuck-up-at-the-same-time/', '39', '10', 'josep2', '1/26/2016 19:30'], ['11964716', \"Florida DJs May Face Felony for April Fools' Water Joke\", 'http://www.thewire.com/entertainment/2013/04/florida-djs-april-fools-water-joke/63798/', '2', '1', 'vezycash', '6/23/2016 22:20'], ['11919867', 'Technology ventures: From Idea to Enterprise', 'https://www.amazon.com/Technology-Ventures-Enterprise-Thomas-Byers/dp/0073523429', '3', '1', 'hswarna', '6/17/2016 0:01'], ['10301696', 'Note by Note: The Making of Steinway L1037 (2007)', 'http://www.nytimes.com/2007/11/07/movies/07stein.html?_r=0', '8', '2', 'walterbell', '9/30/2015 4:12']]\n"
     ]
    }
   ],
   "source": [
    "#remove header row from hn dataset\n",
    "hn = hn[1:]\n",
    "#print first five rows in hn dataset\n",
    "print(hn[0:5])\n"
   ]
  },
  {
   "cell_type": "markdown",
   "metadata": {},
   "source": [
    "## Data preparation"
   ]
  },
  {
   "cell_type": "code",
   "execution_count": 18,
   "metadata": {
    "collapsed": true
   },
   "outputs": [],
   "source": [
    "#create 3 empty lists\n",
    "ask_posts = []\n",
    "show_posts = []\n",
    "other_posts = []"
   ]
  },
  {
   "cell_type": "code",
   "execution_count": 19,
   "metadata": {
    "collapsed": false
   },
   "outputs": [],
   "source": [
    "#loop through the titles in hn dataset and fill the 3 lists\n",
    "for row in hn:\n",
    "    title = row[1]\n",
    "    if (title.lower()).startswith('ask hn'):\n",
    "        ask_posts.append(row)\n",
    "    elif (title.lower()).startswith('show hn'):\n",
    "        show_posts.append(row)\n",
    "    else:\n",
    "        other_posts.append(row)"
   ]
  },
  {
   "cell_type": "code",
   "execution_count": 20,
   "metadata": {
    "collapsed": false,
    "scrolled": true
   },
   "outputs": [
    {
     "name": "stdout",
     "output_type": "stream",
     "text": [
      "Number of ask posts: 1744\n",
      "Number of show posts: 1162\n",
      "Number of other posts: 17194\n"
     ]
    }
   ],
   "source": [
    "#display the number of lowercase titled posts in the 3 lists\n",
    "print(\"Number of ask posts: \" + str(len(ask_posts)))\n",
    "print(\"Number of show posts: \" + str(len(show_posts)))\n",
    "print(\"Number of other posts: \" + str(len(other_posts)))"
   ]
  },
  {
   "cell_type": "markdown",
   "metadata": {},
   "source": [
    "## Data Exploration \n",
    "Do ask posts or show posts receive more comments on average?"
   ]
  },
  {
   "cell_type": "code",
   "execution_count": 21,
   "metadata": {
    "collapsed": false,
    "scrolled": false
   },
   "outputs": [
    {
     "name": "stdout",
     "output_type": "stream",
     "text": [
      "Average number of ask posts : 14.038417431192661\n"
     ]
    }
   ],
   "source": [
    "#determine the average number of ask comments\n",
    "total = 0\n",
    "for row in ask_posts:\n",
    "    total += int(row[4])\n",
    "    \n",
    "avg_ask_comments = total / len(ask_posts)\n",
    "print('Average number of ask posts : ' + str(avg_ask_comments))"
   ]
  },
  {
   "cell_type": "code",
   "execution_count": 22,
   "metadata": {
    "collapsed": false
   },
   "outputs": [
    {
     "name": "stdout",
     "output_type": "stream",
     "text": [
      "Average number of show posts : 10.31669535283993\n"
     ]
    }
   ],
   "source": [
    "#determine the average number of show comments\n",
    "total = 0\n",
    "for row in show_posts:\n",
    "    total += int(row[4])\n",
    "    \n",
    "avg_show_comments = total / len(show_posts)\n",
    "print('Average number of show posts : ' + str(avg_show_comments))"
   ]
  },
  {
   "cell_type": "markdown",
   "metadata": {},
   "source": [
    "Show posts receive more comments on average than ask posts."
   ]
  },
  {
   "cell_type": "markdown",
   "metadata": {
    "collapsed": true
   },
   "source": [
    "## Calculate the average number of ask posts and comments created each hour"
   ]
  },
  {
   "cell_type": "code",
   "execution_count": 26,
   "metadata": {
    "collapsed": false
   },
   "outputs": [],
   "source": [
    "#create empty list\n",
    "result_list = []\n",
    "#add to the list:\n",
    "#(date & time post was created, number of comments)\n",
    "for row in ask_posts:\n",
    "    result_list.append([row[6], int(row[4])])    "
   ]
  },
  {
   "cell_type": "code",
   "execution_count": 33,
   "metadata": {
    "collapsed": false
   },
   "outputs": [],
   "source": [
    "#create two dictionaries\n",
    "counts_by_hour = {}\n",
    "comments_by_hour = {}\n",
    "\n",
    "#loop over result_list\n",
    "for row in result_list:\n",
    "    #create a datetime object, assign datetime format that matches the date time stamp of the data\n",
    "    date_time = dt.datetime.strptime(row[0], \"%m/%d/%Y %H:%M\")\n",
    "    #select only the hour from the datetime object\n",
    "    hour = date_time.strftime(\"%H\")\n",
    "    #conditional statement: \n",
    "    #if the 'hour' is not in 'counts_by_hour' dictionary,\n",
    "    #then add the 'hour' to the dictionary and assign it a value of 1\n",
    "    #then add the corresponding number of comments to the 'comments_by_hour' dictionary\n",
    "    if hour not in counts_by_hour:\n",
    "        counts_by_hour[hour] = 1\n",
    "        comments_by_hour[hour] = row[1]\n",
    "    #conditional statement: \n",
    "    #if the 'hour' is in 'counts_by_hour' dictionary,\n",
    "    #then increase it's value by 1\n",
    "    #then increase the number of comments by the comment number\n",
    "    if hour in counts_by_hour:\n",
    "        counts_by_hour[hour] += 1\n",
    "        comments_by_hour[hour] += row[1]"
   ]
  },
  {
   "cell_type": "code",
   "execution_count": 35,
   "metadata": {
    "collapsed": false
   },
   "outputs": [
    {
     "name": "stdout",
     "output_type": "stream",
     "text": [
      "{'14': 108, '08': 49, '05': 47, '04': 48, '17': 101, '03': 55, '22': 72, '09': 46, '20': 81, '15': 117, '06': 45, '12': 74, '02': 59, '10': 60, '13': 86, '00': 56, '11': 59, '07': 35, '18': 110, '21': 110, '16': 109, '19': 111, '01': 61, '23': 69}\n",
      "{'14': 1419, '08': 497, '05': 493, '04': 340, '17': 1147, '03': 422, '22': 481, '09': 257, '20': 1724, '15': 4478, '06': 398, '12': 691, '02': 1384, '10': 794, '13': 1282, '00': 457, '11': 643, '07': 269, '18': 1441, '21': 1749, '16': 1831, '19': 1191, '01': 716, '23': 544}\n"
     ]
    }
   ],
   "source": [
    "#check format\n",
    "print(counts_by_hour)\n",
    "print(comments_by_hour)"
   ]
  },
  {
   "cell_type": "code",
   "execution_count": 39,
   "metadata": {
    "collapsed": false
   },
   "outputs": [
    {
     "name": "stdout",
     "output_type": "stream",
     "text": [
      "[['14', 13.13888888888889], ['08', 10.142857142857142], ['05', 10.48936170212766], ['04', 7.083333333333333], ['17', 11.356435643564357], ['03', 7.672727272727273], ['22', 6.680555555555555], ['09', 5.586956521739131], ['20', 21.28395061728395], ['15', 38.27350427350427], ['06', 8.844444444444445], ['12', 9.337837837837839], ['02', 23.45762711864407], ['10', 13.233333333333333], ['13', 14.906976744186046], ['00', 8.160714285714286], ['11', 10.898305084745763], ['07', 7.685714285714286], ['18', 13.1], ['21', 15.9], ['16', 16.798165137614678], ['19', 10.72972972972973], ['01', 11.737704918032787], ['23', 7.884057971014493]]\n"
     ]
    }
   ],
   "source": [
    "#calculate the average number of comments per post\n",
    "#created during each hour of the day\n",
    "avg_by_hour = []\n",
    "\n",
    "for hour in comments_by_hour:\n",
    "    avg = comments_by_hour[hour] / counts_by_hour[hour]\n",
    "    avg_by_hour.append([hour,avg])\n",
    "    \n",
    "print(avg_by_hour)"
   ]
  },
  {
   "cell_type": "code",
   "execution_count": 40,
   "metadata": {
    "collapsed": false
   },
   "outputs": [
    {
     "name": "stdout",
     "output_type": "stream",
     "text": [
      "[[13.13888888888889, '14'], [10.142857142857142, '08'], [10.48936170212766, '05'], [7.083333333333333, '04'], [11.356435643564357, '17'], [7.672727272727273, '03'], [6.680555555555555, '22'], [5.586956521739131, '09'], [21.28395061728395, '20'], [38.27350427350427, '15'], [8.844444444444445, '06'], [9.337837837837839, '12'], [23.45762711864407, '02'], [13.233333333333333, '10'], [14.906976744186046, '13'], [8.160714285714286, '00'], [10.898305084745763, '11'], [7.685714285714286, '07'], [13.1, '18'], [15.9, '21'], [16.798165137614678, '16'], [10.72972972972973, '19'], [11.737704918032787, '01'], [7.884057971014493, '23']]\n"
     ]
    }
   ],
   "source": [
    "#swap the columns of 'avg_by_hour' list of lists\n",
    "#Now, the average of comments by the hour column is the first element\n",
    "#Now, the hour column is the second element\n",
    "swap_avg_by_hour = []\n",
    "\n",
    "for row in avg_by_hour:\n",
    "    swap_avg_by_hour.append([row[1], row[0]])\n",
    "\n",
    "print(swap_avg_by_hour)"
   ]
  },
  {
   "cell_type": "code",
   "execution_count": 41,
   "metadata": {
    "collapsed": false
   },
   "outputs": [
    {
     "name": "stdout",
     "output_type": "stream",
     "text": [
      "[[38.27350427350427, '15'], [23.45762711864407, '02'], [21.28395061728395, '20'], [16.798165137614678, '16'], [15.9, '21'], [14.906976744186046, '13'], [13.233333333333333, '10'], [13.13888888888889, '14'], [13.1, '18'], [11.737704918032787, '01'], [11.356435643564357, '17'], [10.898305084745763, '11'], [10.72972972972973, '19'], [10.48936170212766, '05'], [10.142857142857142, '08'], [9.337837837837839, '12'], [8.844444444444445, '06'], [8.160714285714286, '00'], [7.884057971014493, '23'], [7.685714285714286, '07'], [7.672727272727273, '03'], [7.083333333333333, '04'], [6.680555555555555, '22'], [5.586956521739131, '09']]\n"
     ]
    }
   ],
   "source": [
    "#sort the 'swap_avg_by_hour' list of lists\n",
    "#sort by descending order\n",
    "sorted_swap = sorted(swap_avg_by_hour, reverse=True)\n",
    "print(sorted_swap)"
   ]
  },
  {
   "cell_type": "code",
   "execution_count": 46,
   "metadata": {
    "collapsed": false,
    "scrolled": true
   },
   "outputs": [
    {
     "name": "stdout",
     "output_type": "stream",
     "text": [
      "Top 5 Hours for Ask Posts Comments\n",
      "15:00: 38.27 average comments per post\n",
      "02:00: 23.46 average comments per post\n",
      "20:00: 21.28 average comments per post\n",
      "16:00: 16.80 average comments per post\n",
      "21:00: 15.90 average comments per post\n"
     ]
    }
   ],
   "source": [
    "#print the string : \"Top 5 Hours for Ask Posts Comments\"\n",
    "print(\"Top 5 Hours for Ask Posts Comments\") \n",
    "\n",
    "#loop through first 5 rows of sorted_swap\n",
    "for row in sorted_swap[:5]:\n",
    "    #create a datetime object, assign datetime format that matches the date time stamp of the data\n",
    "    time = dt.datetime.strptime(row[1], \"%H\")\n",
    "    #select only the hour, and assign the hour:minute format to the datetime object\n",
    "    hour_min = time.strftime(\"%H:00\")\n",
    "    #print statement for each hour and its average\n",
    "    print(\"{hour}: {avg:.2f} average comments per post\".format(hour = hour_min, avg = row[0]))\n"
   ]
  },
  {
   "cell_type": "markdown",
   "metadata": {
    "collapsed": true
   },
   "source": [
    "The highest average comments for a post occur at 3:00pm EST."
   ]
  }
 ],
 "metadata": {
  "kernelspec": {
   "display_name": "Python 3",
   "language": "python",
   "name": "python3"
  },
  "language_info": {
   "codemirror_mode": {
    "name": "ipython",
    "version": 3
   },
   "file_extension": ".py",
   "mimetype": "text/x-python",
   "name": "python",
   "nbconvert_exporter": "python",
   "pygments_lexer": "ipython3",
   "version": "3.4.3"
  }
 },
 "nbformat": 4,
 "nbformat_minor": 2
}
